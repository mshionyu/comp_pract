{
 "cells": [
  {
   "cell_type": "markdown",
   "id": "65f749de",
   "metadata": {},
   "source": [
    "# 必要なモジュールのインポート"
   ]
  },
  {
   "cell_type": "code",
   "execution_count": null,
   "id": "30b32114-45af-4ca0-ab61-617fa48260aa",
   "metadata": {
    "executionInfo": {
     "elapsed": 12863,
     "status": "ok",
     "timestamp": 1724386498179,
     "user": {
      "displayName": "Masafumi Shionyu",
      "userId": "05486455066059528104"
     },
     "user_tz": -540
    },
    "id": "30b32114-45af-4ca0-ab61-617fa48260aa",
    "tags": []
   },
   "outputs": [],
   "source": [
    "import torch\n",
    "import numpy as np\n",
    "import matplotlib.pyplot as plt\n",
    "from PIL import Image\n",
    "from pathlib import Path\n",
    "from collections import defaultdict\n",
    "from torch.utils.data import DataLoader\n",
    "from torchvision import transforms, datasets\n",
    "from sklearn.ensemble import RandomForestClassifier\n",
    "from sklearn.metrics import ConfusionMatrixDisplay"
   ]
  },
  {
   "cell_type": "markdown",
   "id": "f9a0cc6a",
   "metadata": {},
   "source": [
    "# 訓練用データと評価用データの読み込み\n",
    "画像を短い辺が64ピクセルになるように全体を縮小し、その後中央の64×64ピクセルのみを切り取る。\n",
    "\n",
    "画像の特徴量と教師データを、訓練用データと評価用データに分けて、それぞれ`X`と`y`にランダムな順番で格納する。これにより、`X['train']`には訓練用の特徴量、`y['train']`には訓練用の教師データ、`X['val']`には評価用の特徴量、`y['val']`には評価用の教師データが格納される。\n",
    "\n",
    "特徴量は、チャネル数3 x 縦64 x 横64の数字の並びを一次元にする。"
   ]
  },
  {
   "cell_type": "code",
   "execution_count": null,
   "id": "73b81db3-12cf-46b0-96ce-2570cfb77ef4",
   "metadata": {
    "colab": {
     "base_uri": "https://localhost:8080/"
    },
    "executionInfo": {
     "elapsed": 11121,
     "status": "ok",
     "timestamp": 1724386511187,
     "user": {
      "displayName": "Masafumi Shionyu",
      "userId": "05486455066059528104"
     },
     "user_tz": -540
    },
    "id": "73b81db3-12cf-46b0-96ce-2570cfb77ef4",
    "outputId": "7a4685eb-5ce0-45c4-f0ab-815e157e21d3",
    "tags": []
   },
   "outputs": [],
   "source": [
    "root_dir = Path('./')\n",
    "\n",
    "#\n",
    "data_path = root_dir / 'training'\n",
    "#\n",
    "\n",
    "data_transforms = {\n",
    "    'train': transforms.Compose([\n",
    "        transforms.Resize(64),\n",
    "        transforms.CenterCrop(64),\n",
    "        transforms.ToTensor(),\n",
    "    ]),\n",
    "    'val': transforms.Compose([\n",
    "        transforms.Resize(64),\n",
    "        transforms.CenterCrop(64),\n",
    "        transforms.ToTensor(),\n",
    "    ]),\n",
    "}\n",
    "\n",
    "image_datasets = {\n",
    "    x: datasets.ImageFolder(root=data_path/x, transform=data_transforms[x])\n",
    "    for x in ['train', 'val']}\n",
    "\n",
    "torch.manual_seed(42)\n",
    "dataloaders = {\n",
    "    x: DataLoader(image_datasets[x], batch_size=1, shuffle=True)\n",
    "    for x in ['train', 'val']}\n",
    "dataset_sizes = {x: len(image_datasets[x]) for x in ['train', 'val']}\n",
    "class_names = image_datasets['train'].classes\n",
    "\n",
    "X = defaultdict(list)\n",
    "y = defaultdict(list)\n",
    "for dataset in ['train', 'val']:\n",
    "    for img, labels in dataloaders[dataset]:\n",
    "        X[dataset].append(np.array(img).flatten())\n",
    "        y[dataset].append(labels.item())\n",
    "    X[dataset] = np.array(X[dataset])\n",
    "    y[dataset] = np.array(y[dataset])\n",
    "\n",
    "print('dataset size:', dataset_sizes)\n",
    "print('class name:', class_names)"
   ]
  },
  {
   "cell_type": "markdown",
   "id": "6a03ebde",
   "metadata": {},
   "source": [
    "# 学習モデルの作成と正確度の計算を行う`learn()`関数を定義\n",
    "引数で指定された`n`を`n_estimators`の値として学習モデルを作成し、訓練用データで学習を行う。\n",
    "\n",
    "訓練用データと評価用データそれぞれについて、正確度を計算し、学習済みのモデルと正確度を返す。"
   ]
  },
  {
   "cell_type": "code",
   "execution_count": null,
   "id": "063fdef1-07a7-491e-97b9-c764e957f590",
   "metadata": {
    "executionInfo": {
     "elapsed": 3,
     "status": "ok",
     "timestamp": 1724386514828,
     "user": {
      "displayName": "Masafumi Shionyu",
      "userId": "05486455066059528104"
     },
     "user_tz": -540
    },
    "id": "063fdef1-07a7-491e-97b9-c764e957f590",
    "tags": []
   },
   "outputs": [],
   "source": [
    "def learn(X, y, n):\n",
    "    model = RandomForestClassifier(n_estimators=n, random_state=42, class_weight='balanced', n_jobs=-1)\n",
    "    model.fit(X['train'], y['train'])\n",
    "\n",
    "    score = {}\n",
    "    for dataset in ['train', 'val']:\n",
    "        score[dataset] = model.score(X[dataset], y[dataset])\n",
    "    return score, model"
   ]
  },
  {
   "cell_type": "markdown",
   "id": "45cd41d4",
   "metadata": {},
   "source": [
    "# 評価用データで最も正確度が高くなる学習モデルを選択\n",
    "`n_estimators`の値を50, 100, 500, 1000, 1500, 2000, 2500, 3000と変化させて学習モデルを作成したときに、最も評価用データの正確度が高くなり、かつ、`n_estimators`の値が小さいものを、最も良い学習モデルとして残す。"
   ]
  },
  {
   "cell_type": "code",
   "execution_count": null,
   "id": "63d07aaa-291f-491c-ad7f-284b846a6c2d",
   "metadata": {
    "colab": {
     "base_uri": "https://localhost:8080/"
    },
    "executionInfo": {
     "elapsed": 197024,
     "status": "ok",
     "timestamp": 1724386711850,
     "user": {
      "displayName": "Masafumi Shionyu",
      "userId": "05486455066059528104"
     },
     "user_tz": -540
    },
    "id": "63d07aaa-291f-491c-ad7f-284b846a6c2d",
    "outputId": "07055abc-c224-41dd-bdd3-19b869627489",
    "tags": []
   },
   "outputs": [],
   "source": [
    "best_model = None\n",
    "best_val_score = 0.0\n",
    "for i in (50, 100, 500, 1000, 1500, 2000, 2500, 3000):\n",
    "    score, model = learn(X, y, i)\n",
    "    print(f\"本数：{i} 訓練用データでの正確度：{score['train']:.3f} 評価用データでの正確度：{score['val']:.3f}\")\n",
    "    if score['val'] > best_val_score:\n",
    "        best_model = model\n",
    "        best_val_score = score['val']\n",
    "print()\n",
    "print('best model:', best_model)\n",
    "print('best score:', best_val_score)"
   ]
  },
  {
   "cell_type": "markdown",
   "id": "7cb31bc1",
   "metadata": {},
   "source": [
    "# 混同行列による評価\n",
    "最も良い学習モデルにより、評価用データの判別を行い、その結果を混同行列で評価する。"
   ]
  },
  {
   "cell_type": "code",
   "execution_count": null,
   "id": "fdd59fb6-2865-44ef-a589-4c9c754b1df3",
   "metadata": {
    "colab": {
     "base_uri": "https://localhost:8080/",
     "height": 449
    },
    "executionInfo": {
     "elapsed": 545,
     "status": "ok",
     "timestamp": 1724386712375,
     "user": {
      "displayName": "Masafumi Shionyu",
      "userId": "05486455066059528104"
     },
     "user_tz": -540
    },
    "id": "fdd59fb6-2865-44ef-a589-4c9c754b1df3",
    "outputId": "20399ff0-61c1-4444-bcd2-51acceb1cd85",
    "tags": []
   },
   "outputs": [],
   "source": [
    "predicted = best_model.predict(X['val'])\n",
    "ConfusionMatrixDisplay.from_predictions(y['val'], predicted)\n",
    "plt.show()"
   ]
  },
  {
   "cell_type": "markdown",
   "id": "e88535b0",
   "metadata": {},
   "source": [
    "# 判別結果の可視化を行う`check_results()`関数を定義\n",
    "引数として、判別に成功（`success`）、もしくは、判別に失敗（`failed`）のどちらを表示するかを示す`flag`を受け取り、それに応じて、最大40個までの該当する評価用データの画像を表示する。"
   ]
  },
  {
   "cell_type": "code",
   "execution_count": null,
   "id": "ca6ea6c5-26fe-44ec-a58b-8fd087c9ffa1",
   "metadata": {
    "executionInfo": {
     "elapsed": 5,
     "status": "ok",
     "timestamp": 1724386712375,
     "user": {
      "displayName": "Masafumi Shionyu",
      "userId": "05486455066059528104"
     },
     "user_tz": -540
    },
    "id": "ca6ea6c5-26fe-44ec-a58b-8fd087c9ffa1",
    "tags": []
   },
   "outputs": [],
   "source": [
    "def check_results(Xs, ys, preds, flag):\n",
    "    H = 4\n",
    "    W = 10\n",
    "    fig = plt.figure(figsize=(W, H))\n",
    "    fig.subplots_adjust(left=0, right=1, bottom=0, top=1.0, hspace=0.4, wspace=0.4)\n",
    "\n",
    "    i = 0\n",
    "    for img, label, pred in zip(Xs, ys, preds):\n",
    "        if (flag == 'success' and label == pred) or (flag == 'failed' and label != pred):\n",
    "            plt.subplot(H, W, i+1)\n",
    "            img = img.reshape(3, 64, 64).transpose(1, 2, 0)\n",
    "            plt.imshow(img)\n",
    "            plt.title(f'{label}->{pred}', fontsize=8)\n",
    "            plt.axis('off')\n",
    "            i += 1\n",
    "            if i >= H * W:\n",
    "                break\n",
    "    plt.show()"
   ]
  },
  {
   "cell_type": "markdown",
   "id": "cb24525d",
   "metadata": {},
   "source": [
    "# 判別に成功した画像を表示する"
   ]
  },
  {
   "cell_type": "code",
   "execution_count": null,
   "id": "1f9a4e9d-f973-4bd0-b893-41b62e188763",
   "metadata": {
    "colab": {
     "base_uri": "https://localhost:8080/",
     "height": 443
    },
    "executionInfo": {
     "elapsed": 5176,
     "status": "ok",
     "timestamp": 1724386717546,
     "user": {
      "displayName": "Masafumi Shionyu",
      "userId": "05486455066059528104"
     },
     "user_tz": -540
    },
    "id": "1f9a4e9d-f973-4bd0-b893-41b62e188763",
    "outputId": "7bcdef9b-c8c1-4243-8a32-94baab79d8c1",
    "tags": []
   },
   "outputs": [],
   "source": [
    "check_results(X['val'], y['val'], predicted, 'success')"
   ]
  },
  {
   "cell_type": "markdown",
   "id": "4a678ec6",
   "metadata": {},
   "source": [
    "# 判別に失敗した画像を表示する"
   ]
  },
  {
   "cell_type": "code",
   "execution_count": null,
   "id": "a0c453ca-cd87-481c-9a87-1f98c2f05ea4",
   "metadata": {
    "colab": {
     "base_uri": "https://localhost:8080/",
     "height": 337
    },
    "executionInfo": {
     "elapsed": 3475,
     "status": "ok",
     "timestamp": 1724386721016,
     "user": {
      "displayName": "Masafumi Shionyu",
      "userId": "05486455066059528104"
     },
     "user_tz": -540
    },
    "id": "a0c453ca-cd87-481c-9a87-1f98c2f05ea4",
    "outputId": "d0291f09-6dfa-4ee2-b899-e3d21f9e1101",
    "tags": []
   },
   "outputs": [],
   "source": [
    "check_results(X['val'], y['val'], predicted, 'failed')"
   ]
  }
 ],
 "metadata": {
  "colab": {
   "provenance": []
  },
  "kernelspec": {
   "display_name": "Python 3 (ipykernel)",
   "language": "python",
   "name": "python3"
  },
  "language_info": {
   "codemirror_mode": {
    "name": "ipython",
    "version": 3
   },
   "file_extension": ".py",
   "mimetype": "text/x-python",
   "name": "python",
   "nbconvert_exporter": "python",
   "pygments_lexer": "ipython3",
   "version": "3.11.0"
  }
 },
 "nbformat": 4,
 "nbformat_minor": 5
}
