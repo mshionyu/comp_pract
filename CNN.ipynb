{
 "cells": [
  {
   "cell_type": "markdown",
   "id": "e9d395f1-3259-4fe6-8489-9c453e89e077",
   "metadata": {},
   "source": [
    "# 必要なモジュールのインポート"
   ]
  },
  {
   "cell_type": "code",
   "execution_count": null,
   "id": "e670adde-cf4a-41f5-928a-faa84c6eef26",
   "metadata": {
    "executionInfo": {
     "elapsed": 317,
     "status": "ok",
     "timestamp": 1724390160204,
     "user": {
      "displayName": "Masafumi Shionyu",
      "userId": "05486455066059528104"
     },
     "user_tz": -540
    },
    "id": "e670adde-cf4a-41f5-928a-faa84c6eef26",
    "tags": []
   },
   "outputs": [],
   "source": [
    "import torch\n",
    "import datetime\n",
    "import torch.nn as nn\n",
    "import torch.optim as optim\n",
    "import matplotlib.pyplot as plt\n",
    "from torch.utils.data import DataLoader\n",
    "from torchvision import transforms, datasets, models\n",
    "from pathlib import Path\n",
    "from sklearn.metrics import ConfusionMatrixDisplay"
   ]
  },
  {
   "cell_type": "markdown",
   "id": "1362084f-4e5d-4f15-87df-1003b635129b",
   "metadata": {},
   "source": [
    "# パラメータの設定\n",
    "エポック数を変えたい時は`MAX_EPOCH`に代入する値を変更する。"
   ]
  },
  {
   "cell_type": "code",
   "execution_count": null,
   "id": "39b066d8-8f36-4103-b2df-a29c26abd143",
   "metadata": {
    "executionInfo": {
     "elapsed": 294,
     "status": "ok",
     "timestamp": 1724390095310,
     "user": {
      "displayName": "Masafumi Shionyu",
      "userId": "05486455066059528104"
     },
     "user_tz": -540
    },
    "id": "1a935908-667c-4ee2-b5e3-c6f4830d9932",
    "tags": []
   },
   "outputs": [],
   "source": [
    "# エポック数\n",
    "MAX_EPOCH = 50\n",
    "\n",
    "# 画像の正規化用\n",
    "mean = [0.485, 0.456, 0.406]\n",
    "std = [0.229, 0.224, 0.225]\n",
    "\n",
    "if torch.backends.mps.is_available():\n",
    "    device = torch.device('mps')\n",
    "elif torch.cuda.is_available():\n",
    "    device = torch.device('cuda')\n",
    "else:\n",
    "    device = torch.device('cpu')"
   ]
  },
  {
   "cell_type": "markdown",
   "id": "b11f7574-e0f8-46a0-a186-2c6fa239f8d7",
   "metadata": {},
   "source": [
    "# 訓練用データと評価用データを読み込む`prepare_loader()`関数を定義\n",
    "画像を短い辺が64ピクセルになるように全体を縮小し、その後中央の64×64ピクセルのみを切り取る。その後、一般的な画像データにおけるR, G, Bの値の平均と標準偏差を使って値の正規化を行う。これにより、学習が進みやすくなる。\n",
    "\n",
    "データセットから画像を5つずつ（バッチの大きさを5として）ランダムに取り出し、特徴量と教師データを学習モデルに渡す**データローダー**を設定する。"
   ]
  },
  {
   "cell_type": "code",
   "execution_count": null,
   "id": "a009e9ac-898a-4e02-9b9a-620fee3daae6",
   "metadata": {
    "executionInfo": {
     "elapsed": 326,
     "status": "ok",
     "timestamp": 1724390106855,
     "user": {
      "displayName": "Masafumi Shionyu",
      "userId": "05486455066059528104"
     },
     "user_tz": -540
    },
    "id": "a009e9ac-898a-4e02-9b9a-620fee3daae6",
    "tags": []
   },
   "outputs": [],
   "source": [
    "def prepare_loader(data_path):\n",
    "    # transform定義\n",
    "    data_transforms = {\n",
    "        'train': transforms.Compose([\n",
    "            transforms.Resize(64),\n",
    "            transforms.CenterCrop(64),\n",
    "            transforms.ToTensor(),\n",
    "            transforms.Normalize(mean=mean, std=std),\n",
    "        ]),\n",
    "        'val': transforms.Compose([\n",
    "            transforms.Resize(64),\n",
    "            transforms.CenterCrop(64),\n",
    "            transforms.ToTensor(),\n",
    "            transforms.Normalize(mean=mean, std=std),\n",
    "        ]),\n",
    "    }\n",
    "    image_datasets = {\n",
    "        x: datasets.ImageFolder(root=data_path/x, transform=data_transforms[x])\n",
    "        for x in ['train', 'val']}\n",
    "\n",
    "    torch.manual_seed(42)\n",
    "    dataloaders = {\n",
    "        x: DataLoader(image_datasets[x], batch_size=5, shuffle=True)\n",
    "        for x in ['train', 'val']}\n",
    "\n",
    "    dataset_sizes = {x: len(image_datasets[x]) for x in ['train', 'val']}\n",
    "    class_names = image_datasets['train'].classes\n",
    "\n",
    "    return dataloaders, dataset_sizes, class_names"
   ]
  },
  {
   "cell_type": "markdown",
   "id": "cbf93651-5207-49a0-8475-d9e02162c18e",
   "metadata": {},
   "source": [
    "# 学習を行う`train_model()`関数を定義"
   ]
  },
  {
   "cell_type": "code",
   "execution_count": null,
   "id": "0322bd9f-2ba3-4ee7-af5f-1054a99672dc",
   "metadata": {
    "executionInfo": {
     "elapsed": 279,
     "status": "ok",
     "timestamp": 1724390103138,
     "user": {
      "displayName": "Masafumi Shionyu",
      "userId": "05486455066059528104"
     },
     "user_tz": -540
    },
    "id": "0322bd9f-2ba3-4ee7-af5f-1054a99672dc",
    "tags": []
   },
   "outputs": [],
   "source": [
    "def train_model(model, loss_fn, optimizer, dataloaders, dataset_sizes):\n",
    "    loss_list = {'train': [], 'val': []}\n",
    "    acc_list = {'train': [], 'val': []}\n",
    "    for epoch in range(1, MAX_EPOCH+1):\n",
    "        for phase in ['train', 'val']:\n",
    "            if phase == 'train':\n",
    "                model.train()\n",
    "            else:\n",
    "                model.eval()\n",
    "\n",
    "            running_loss = 0.0\n",
    "            running_corrects = 0\n",
    "            for images, labels in dataloaders[phase]:\n",
    "                images = images.to(device=device)\n",
    "                labels = labels.to(device=device)\n",
    "                with torch.set_grad_enabled(phase == 'train'):\n",
    "                    # モデルで予測を計算\n",
    "                    outputs = model(images)\n",
    "                    # 出力で最大値を持つインデックスを取得\n",
    "                    _, preds = torch.max(outputs, dim=1)\n",
    "                    # 損失の計算\n",
    "                    loss = loss_fn(outputs, labels)\n",
    "                    if phase == 'train':\n",
    "                        # 勾配情報を削除\n",
    "                        optimizer.zero_grad()\n",
    "                        # 微分計算\n",
    "                        loss.backward()\n",
    "                        # 勾配を更新\n",
    "                        optimizer.step()\n",
    "                # 損失の加算\n",
    "                running_loss += loss.item() * images.size(0)\n",
    "                # 正解の加算\n",
    "                running_corrects += torch.sum(preds == labels.data).item()\n",
    "\n",
    "            epoch_loss = running_loss / dataset_sizes[phase]\n",
    "            epoch_acc = running_corrects / dataset_sizes[phase]\n",
    "            loss_list[phase].append(epoch_loss)\n",
    "            acc_list[phase].append(epoch_acc)\n",
    "            if epoch == 1 or epoch % 10 == 0:\n",
    "                if phase == 'train':\n",
    "                    dt_now = datetime.datetime.now()\n",
    "                    print(f'{dt_now.strftime(\"%H:%M:%S\")} epoch: {epoch:3d} ', end=' ')\n",
    "                print(f'{phase} Loss: {epoch_loss:.4f} Acc: {epoch_acc:.4f}',\n",
    "                      end=' ' if phase == 'train' else '\\n')\n",
    "\n",
    "    _, ax = plt.subplots(1, 2, figsize=(10, 5))\n",
    "    ax[0].plot(range(1, MAX_EPOCH+1), loss_list['train'], color='blue',\n",
    "               linestyle='-', label='train')\n",
    "    ax[0].plot(range(1, MAX_EPOCH+1), loss_list['val'], color='orange',\n",
    "               linestyle='--', label='val')\n",
    "    ax[0].set_xlabel('epoch')\n",
    "    ax[0].set_ylabel('loss')\n",
    "    ax[0].set_title('Loss')\n",
    "    ax[0].legend()\n",
    "    \n",
    "    ax[1].plot(range(1, MAX_EPOCH+1), acc_list['train'], color='blue',\n",
    "               linestyle='-', label='train')\n",
    "    ax[1].plot(range(1, MAX_EPOCH+1), acc_list['val'], color='orange',\n",
    "               linestyle='--', label='val')\n",
    "    ax[1].set_xlabel('epoch')\n",
    "    ax[1].set_ylabel('accuracy')\n",
    "    ax[1].set_title('Accuracy')\n",
    "    ax[1].legend()\n",
    "    plt.tight_layout()\n",
    "    plt.show()\n",
    "\n",
    "    return model"
   ]
  },
  {
   "cell_type": "markdown",
   "id": "24fc135f-f285-4ab9-9a25-62f76782a17f",
   "metadata": {},
   "source": [
    "# 学習モデルの定義と学習方法を設定し、`train_model()`関数で学習を実行させる`training()`関数を定義\n",
    "画像認識を行うために訓練されたディープニューラルネットワークによる学習モデルである**AlexNet**を準備し、学習済みのパラメータを読み込む。\n",
    "\n",
    "AlexNetは1,000種類の画像を識別できるように訓練されているので、ネットワークの最後を変更し、3種類の画像の識別ができるように変更する。\n",
    "\n",
    "**学習率**を0.001と設定して、**最適化関数**にSGD（確率的勾配降下法）を選択する。また、**損失関数**としてクロスエントロピー誤差を設定する。"
   ]
  },
  {
   "cell_type": "code",
   "execution_count": null,
   "id": "8aa7963d-3034-4214-8b71-f59d7ef8f924",
   "metadata": {
    "executionInfo": {
     "elapsed": 292,
     "status": "ok",
     "timestamp": 1724390174578,
     "user": {
      "displayName": "Masafumi Shionyu",
      "userId": "05486455066059528104"
     },
     "user_tz": -540
    },
    "id": "8aa7963d-3034-4214-8b71-f59d7ef8f924",
    "tags": []
   },
   "outputs": [],
   "source": [
    "def training(dataloaders, dataset_sizes, class_names):\n",
    "    print(f'Training on device {device}')\n",
    "    \n",
    "    model = models.alexnet(weights='DEFAULT')\n",
    "    for param in model.parameters():\n",
    "        param.requires_grad = False\n",
    "    num_features = model.classifier[-1].in_features\n",
    "    model.classifier[-1] = nn.Linear(num_features, len(class_names))\n",
    "    model = model.to(device)\n",
    "\n",
    "    # 最適化関数と損失関数の設定\n",
    "    learning_rate = 0.001\n",
    "    optimizer = optim.SGD(params=model.parameters(), lr=learning_rate)\n",
    "    loss_fn = nn.CrossEntropyLoss()\n",
    "\n",
    "    # 学習\n",
    "    model = train_model(model, loss_fn, optimizer, dataloaders, dataset_sizes)\n",
    "\n",
    "    return model"
   ]
  },
  {
   "cell_type": "markdown",
   "id": "11edaa3e-0dc1-4f92-b4d6-9b288fd312f4",
   "metadata": {},
   "source": [
    "# 学習済みのモデルを受け取って、画像の判別を行う`predict()`関数を定義"
   ]
  },
  {
   "cell_type": "code",
   "execution_count": null,
   "id": "3d1f7bb8-9cbe-4999-ab49-a3147c22a420",
   "metadata": {
    "executionInfo": {
     "elapsed": 383,
     "status": "ok",
     "timestamp": 1724327571294,
     "user": {
      "displayName": "Masafumi Shionyu",
      "userId": "05486455066059528104"
     },
     "user_tz": -540
    },
    "id": "3d1f7bb8-9cbe-4999-ab49-a3147c22a420",
    "tags": []
   },
   "outputs": [],
   "source": [
    "def predict(model, dataloader):\n",
    "    preds = []\n",
    "    images = []\n",
    "    labels = []\n",
    "    model.eval()\n",
    "    with torch.no_grad():\n",
    "        for image, label in dataloader:\n",
    "            image = image.to(device=device)\n",
    "            label = label.to(device=device)\n",
    "            outputs = model(image)\n",
    "            _, pred = torch.max(outputs, dim=1)\n",
    "            preds.append(pred)\n",
    "            images.append(image)\n",
    "            labels.append(label)\n",
    "    return torch.cat(preds).tolist(), torch.cat(images).to('cpu'), torch.cat(labels).tolist()"
   ]
  },
  {
   "cell_type": "markdown",
   "id": "20c60fbe-7eff-419b-b3da-e89e69364116",
   "metadata": {},
   "source": [
    "# データローダーで渡される画像データを表示して確認できる`check_data()`関数を定義\n",
    "データローダーから提供される画像データは正規化されているため、元の値に戻す。\n",
    "\n",
    "2行10列で20個の画像を表示する。"
   ]
  },
  {
   "cell_type": "code",
   "execution_count": null,
   "id": "e837bd96-b7da-4a67-be58-3eeaa56ba5c5",
   "metadata": {
    "executionInfo": {
     "elapsed": 282,
     "status": "ok",
     "timestamp": 1724390558681,
     "user": {
      "displayName": "Masafumi Shionyu",
      "userId": "05486455066059528104"
     },
     "user_tz": -540
    },
    "id": "e837bd96-b7da-4a67-be58-3eeaa56ba5c5",
    "tags": []
   },
   "outputs": [],
   "source": [
    "def check_data(dataloader):\n",
    "    inv_normalize = transforms.Normalize(\n",
    "        mean=[-m/s for m, s in zip(mean, std)],\n",
    "        std=[1/s for s in std]\n",
    "    )\n",
    "    \n",
    "    H = 2\n",
    "    W = 10\n",
    "    fig = plt.figure(figsize=(W, H))\n",
    "    fig.subplots_adjust(left=0, right=1, bottom=0, top=1.0, hspace=0.4, wspace=0.4)\n",
    "\n",
    "    i = 0\n",
    "    flag = False\n",
    "    for imgs, labels in dataloader:\n",
    "        for k in range(imgs.shape[0]):\n",
    "            img = imgs[k]\n",
    "            label = labels[k]\n",
    "            plt.subplot(H, W, i+1)\n",
    "            img = torch.clamp(inv_normalize(img), 0, 1)\n",
    "            plt.imshow(img.permute(1, 2, 0))\n",
    "            plt.title(label.item())\n",
    "            plt.axis('off')\n",
    "            i += 1\n",
    "            if i >= H * W:\n",
    "                flag = True\n",
    "                break\n",
    "        if flag:\n",
    "            break\n",
    "    plt.show()"
   ]
  },
  {
   "cell_type": "markdown",
   "id": "6d0a1aa4-351b-44ce-b19a-31fa76290a98",
   "metadata": {},
   "source": [
    "# データの準備\n",
    "入力データのある場所を`data_dir`で指定し、`prepare_loader()`関数によりデータローダーを作成する。\n",
    "\n",
    "作成されたデータローダーにある訓練用データと評価用データの画像を表示する。"
   ]
  },
  {
   "cell_type": "code",
   "execution_count": null,
   "id": "8ac1d659-f3ac-4e25-b7db-9d04c03bdb61",
   "metadata": {
    "colab": {
     "base_uri": "https://localhost:8080/",
     "height": 481
    },
    "executionInfo": {
     "elapsed": 16029,
     "status": "ok",
     "timestamp": 1724390581152,
     "user": {
      "displayName": "Masafumi Shionyu",
      "userId": "05486455066059528104"
     },
     "user_tz": -540
    },
    "id": "8ac1d659-f3ac-4e25-b7db-9d04c03bdb61",
    "outputId": "d78c2ec6-d15e-4c67-f67a-2b0678e29c55",
    "tags": []
   },
   "outputs": [],
   "source": [
    "###\n",
    "data_dir = 'training'\n",
    "###\n",
    "\n",
    "root_dir = Path('./')\n",
    "data_path = root_dir/data_dir\n",
    "dataloaders, dataset_sizes, class_names = prepare_loader(data_path)\n",
    "print(dataset_sizes)\n",
    "print('訓練用データの例')\n",
    "check_data(dataloaders['train'])\n",
    "print('評価用データの例')\n",
    "check_data(dataloaders['val'])"
   ]
  },
  {
   "cell_type": "markdown",
   "id": "32e34976-17f4-4247-87c2-722209d355ac",
   "metadata": {},
   "source": [
    "# 学習の実行\n",
    "`training()`関数により学習を行い、学習後のモデルを`model`に格納する。"
   ]
  },
  {
   "cell_type": "code",
   "execution_count": null,
   "id": "c7fb9150-2e30-4fa9-b957-9a1520b92b5e",
   "metadata": {
    "tags": []
   },
   "outputs": [],
   "source": [
    "model = training(dataloaders, dataset_sizes, class_names)"
   ]
  },
  {
   "cell_type": "markdown",
   "id": "31b4118f-e217-45ee-b6d7-1cf1199405a0",
   "metadata": {},
   "source": [
    "# 正確度による学習モデルの精度評価\n",
    "学習後のモデルと評価用データを`predict()`に渡し、判別結果を受け取る。\n",
    "\n",
    "正しい判別ができた画像の数を数えて、正解数と正確度を表示する。"
   ]
  },
  {
   "cell_type": "code",
   "execution_count": null,
   "id": "65646803-9f14-4ac6-ad87-53f3ca33e947",
   "metadata": {
    "colab": {
     "base_uri": "https://localhost:8080/"
    },
    "executionInfo": {
     "elapsed": 395,
     "status": "ok",
     "timestamp": 1724327911029,
     "user": {
      "displayName": "Masafumi Shionyu",
      "userId": "05486455066059528104"
     },
     "user_tz": -540
    },
    "id": "65646803-9f14-4ac6-ad87-53f3ca33e947",
    "outputId": "61325fcb-944b-49fc-e780-1df8e24b9966",
    "tags": []
   },
   "outputs": [],
   "source": [
    "preds, images, labels = predict(model, dataloaders['val'])\n",
    "correct = 0\n",
    "for pred, y in zip(preds, labels):\n",
    "    if pred == y:\n",
    "        correct += 1\n",
    "print('正解数:', correct, '正確度:', f'{correct/len(labels):.3f}')"
   ]
  },
  {
   "cell_type": "markdown",
   "id": "a5de7353-d2eb-4d41-a2df-c51339953c04",
   "metadata": {},
   "source": [
    "# 混同行列による精度評価"
   ]
  },
  {
   "cell_type": "code",
   "execution_count": null,
   "id": "056df385-95f9-4ec3-81ef-c0a525cc9840",
   "metadata": {
    "colab": {
     "base_uri": "https://localhost:8080/",
     "height": 455
    },
    "executionInfo": {
     "elapsed": 694,
     "status": "ok",
     "timestamp": 1724327918523,
     "user": {
      "displayName": "Masafumi Shionyu",
      "userId": "05486455066059528104"
     },
     "user_tz": -540
    },
    "id": "056df385-95f9-4ec3-81ef-c0a525cc9840",
    "outputId": "58145e15-6944-4533-d804-95987a855e4f",
    "tags": []
   },
   "outputs": [],
   "source": [
    "ConfusionMatrixDisplay.from_predictions(labels, preds)\n",
    "plt.show()"
   ]
  },
  {
   "cell_type": "markdown",
   "id": "b761f86f-21c5-42ce-aa40-67025b3b469c",
   "metadata": {},
   "source": [
    "# 判別結果の可視化を行う`check_results()`関数を定義"
   ]
  },
  {
   "cell_type": "code",
   "execution_count": null,
   "id": "67969733-3436-457d-aa7a-e567bf39c9d7",
   "metadata": {
    "executionInfo": {
     "elapsed": 417,
     "status": "ok",
     "timestamp": 1724390525327,
     "user": {
      "displayName": "Masafumi Shionyu",
      "userId": "05486455066059528104"
     },
     "user_tz": -540
    },
    "id": "67969733-3436-457d-aa7a-e567bf39c9d7",
    "tags": []
   },
   "outputs": [],
   "source": [
    "def check_results(Xs, ys, preds, flag):\n",
    "    inv_normalize = transforms.Normalize(\n",
    "        mean=[-m/s for m, s in zip(mean, std)],\n",
    "        std=[1/s for s in std]\n",
    "    )\n",
    "    \n",
    "    H = 4\n",
    "    W = 10\n",
    "    fig = plt.figure(figsize=(W, H))\n",
    "    fig.subplots_adjust(left=0, right=1, bottom=0, top=1.0, hspace=0.4, wspace=0.4)\n",
    "\n",
    "    i = 0\n",
    "    for img, label, pred in zip(Xs, ys, preds):\n",
    "        if (flag == 'success' and label == pred) or (flag == 'failed' and label != pred):\n",
    "            plt.subplot(H, W, i+1)\n",
    "            img = torch.clamp(inv_normalize(img), 0, 1)\n",
    "            plt.imshow(img.permute(1, 2, 0))\n",
    "            plt.title(f'{label}->{pred}', fontsize=8)\n",
    "            plt.axis('off')\n",
    "            i += 1\n",
    "            if i >= H * W:\n",
    "                break\n",
    "    plt.show()"
   ]
  },
  {
   "cell_type": "markdown",
   "id": "08fad2d4-919c-445d-9128-15062a9f0d4c",
   "metadata": {},
   "source": [
    "# 判別に成功した画像を表示する"
   ]
  },
  {
   "cell_type": "code",
   "execution_count": null,
   "id": "4c028c69-7474-4b02-b9d8-695c873800ec",
   "metadata": {
    "colab": {
     "base_uri": "https://localhost:8080/",
     "height": 449
    },
    "executionInfo": {
     "elapsed": 3596,
     "status": "ok",
     "timestamp": 1724327928654,
     "user": {
      "displayName": "Masafumi Shionyu",
      "userId": "05486455066059528104"
     },
     "user_tz": -540
    },
    "id": "4c028c69-7474-4b02-b9d8-695c873800ec",
    "outputId": "fb6d3cc7-7b65-4c45-ca66-4b87113abc90",
    "tags": []
   },
   "outputs": [],
   "source": [
    "check_results(images, labels, preds, 'success')"
   ]
  },
  {
   "cell_type": "markdown",
   "id": "7376b25b-4869-41c4-8338-dc09714b9ef2",
   "metadata": {},
   "source": [
    "# 判別に失敗した画像を表示する"
   ]
  },
  {
   "cell_type": "code",
   "execution_count": null,
   "id": "5c70a78f-c303-4673-9aa0-3c099adf7f11",
   "metadata": {
    "colab": {
     "base_uri": "https://localhost:8080/",
     "height": 449
    },
    "executionInfo": {
     "elapsed": 3068,
     "status": "ok",
     "timestamp": 1724327933944,
     "user": {
      "displayName": "Masafumi Shionyu",
      "userId": "05486455066059528104"
     },
     "user_tz": -540
    },
    "id": "5c70a78f-c303-4673-9aa0-3c099adf7f11",
    "outputId": "97cb09bc-3d28-492a-8397-583275050c13",
    "tags": []
   },
   "outputs": [],
   "source": [
    "check_results(images, labels, preds, 'failed')"
   ]
  }
 ],
 "metadata": {
  "accelerator": "GPU",
  "colab": {
   "gpuType": "T4",
   "provenance": []
  },
  "kernelspec": {
   "display_name": "Python 3 (ipykernel)",
   "language": "python",
   "name": "python3"
  },
  "language_info": {
   "codemirror_mode": {
    "name": "ipython",
    "version": 3
   },
   "file_extension": ".py",
   "mimetype": "text/x-python",
   "name": "python",
   "nbconvert_exporter": "python",
   "pygments_lexer": "ipython3",
   "version": "3.11.0"
  }
 },
 "nbformat": 4,
 "nbformat_minor": 5
}
