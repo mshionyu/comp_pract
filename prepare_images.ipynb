{
 "cells": [
  {
   "cell_type": "code",
   "execution_count": 1,
   "id": "7022eded-e5b2-4842-9d51-ff1d0836c233",
   "metadata": {
    "executionInfo": {
     "elapsed": 9127,
     "status": "ok",
     "timestamp": 1724376984090,
     "user": {
      "displayName": "Masafumi Shionyu",
      "userId": "05486455066059528104"
     },
     "user_tz": -540
    },
    "id": "7022eded-e5b2-4842-9d51-ff1d0836c233",
    "tags": []
   },
   "outputs": [],
   "source": [
    "from pathlib import Path\n",
    "from PIL import Image\n",
    "from torchvision import transforms\n",
    "from sklearn.model_selection import train_test_split\n",
    "\n",
    "accepted_suffix = ('.jpg', '.png', '.jpeg', '.JPG', '.PNG', '.bmp', '.gif')\n",
    "root_path = Path('./')\n",
    "\n",
    "###\n",
    "input_dir = 'all_images'\n",
    "output_dir = 'training'\n",
    "###\n",
    "\n",
    "resize_transform = transforms.Compose([\n",
    "    transforms.Resize(64),\n",
    "    transforms.CenterCrop(64),\n",
    "])\n",
    "\n",
    "original_data_path = root_path/input_dir\n",
    "data_path = {x: root_path/output_dir/ x for x in ['train', 'val']}\n",
    "split_ratio = 0.8\n",
    "\n",
    "for x in ['train', 'val']:\n",
    "    data_path[x].mkdir(parents=True, exist_ok=True)\n",
    "\n",
    "for class_name in original_data_path.iterdir():\n",
    "    class_name = class_name.name\n",
    "    original_class_path = original_data_path/class_name\n",
    "    if not original_class_path.is_dir():\n",
    "        continue\n",
    "\n",
    "    all_images = []\n",
    "    for filename in original_class_path.iterdir():\n",
    "        if filename.suffix in accepted_suffix:\n",
    "            try:\n",
    "                with Image.open(filename) as img:\n",
    "                    if img.mode == 'RGB':\n",
    "                        all_images.append(filename.name)\n",
    "            except Exception as e:\n",
    "                print(f'Error occured. {filename}: {e}')\n",
    "\n",
    "    images = {} \n",
    "    images['train'], images['val'] = train_test_split(all_images,\n",
    "                                                      train_size=split_ratio,\n",
    "                                                      random_state=42,\n",
    "                                                      )\n",
    "    for x in ['train', 'val']:\n",
    "        class_path = data_path[x]/class_name\n",
    "        class_path.mkdir(parents=True, exist_ok=True)\n",
    "        for image_name in images[x]:\n",
    "            src = original_class_path/image_name\n",
    "            dst = class_path/image_name\n",
    "            with Image.open(src) as img:\n",
    "                resized_img = resize_transform(img)\n",
    "                resized_img.save(dst)"
   ]
  }
 ],
 "metadata": {
  "colab": {
   "provenance": []
  },
  "kernelspec": {
   "display_name": "Python 3 (ipykernel)",
   "language": "python",
   "name": "python3"
  },
  "language_info": {
   "codemirror_mode": {
    "name": "ipython",
    "version": 3
   },
   "file_extension": ".py",
   "mimetype": "text/x-python",
   "name": "python",
   "nbconvert_exporter": "python",
   "pygments_lexer": "ipython3",
   "version": "3.11.0"
  }
 },
 "nbformat": 4,
 "nbformat_minor": 5
}
