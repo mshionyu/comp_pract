{
 "cells": [
  {
   "cell_type": "code",
   "execution_count": 1,
   "id": "7022eded-e5b2-4842-9d51-ff1d0836c233",
   "metadata": {
    "executionInfo": {
     "elapsed": 9127,
     "status": "ok",
     "timestamp": 1724376984090,
     "user": {
      "displayName": "Masafumi Shionyu",
      "userId": "05486455066059528104"
     },
     "user_tz": -540
    },
    "id": "7022eded-e5b2-4842-9d51-ff1d0836c233",
    "tags": []
   },
   "outputs": [],
   "source": [
    "import shutil\n",
    "from pathlib import Path\n",
    "from sklearn.model_selection import train_test_split\n",
    "from PIL import Image\n",
    "\n",
    "accepted_suffix = ('.jpg', '.png', '.jpeg', '.JPG', '.PNG', '.bmp', '.gif')\n",
    "\n",
    "root_path = Path('./')\n",
    "#\n",
    "input_dir = 'all_images'\n",
    "output_dir = 'training'\n",
    "#\n",
    "\n",
    "original_data_path = root_path / input_dir\n",
    "train_data_path = root_path / output_dir / 'train'\n",
    "val_data_path = root_path / output_dir / 'val'\n",
    "split_ratio = 0.8\n",
    "\n",
    "train_data_path.mkdir(parents=True, exist_ok=True)\n",
    "val_data_path.mkdir(parents=True, exist_ok=True)\n",
    "\n",
    "for class_name in original_data_path.iterdir():\n",
    "    class_name = class_name.name\n",
    "    class_path = original_data_path / class_name\n",
    "    if not class_path.is_dir():\n",
    "        continue\n",
    "\n",
    "    images = []\n",
    "    for filename in class_path.iterdir():\n",
    "        if filename.suffix in accepted_suffix:\n",
    "            try:\n",
    "                with Image.open(filename) as img:\n",
    "                    if img.mode == 'RGB':\n",
    "                        images.append(filename.name)\n",
    "            except Exception as e:\n",
    "                print(f'Error occured. {filename}: {e}')\n",
    "\n",
    "    train_images, val_images = train_test_split(images,\n",
    "                                                train_size=split_ratio,\n",
    "                                                random_state=42,\n",
    "                                                )\n",
    "    train_class_path = train_data_path / class_name\n",
    "    train_class_path.mkdir(parents=True, exist_ok=True)\n",
    "    for image_name in train_images:\n",
    "        src = class_path / image_name\n",
    "        dst = train_class_path / image_name\n",
    "        shutil.copyfile(src, dst)\n",
    "\n",
    "    val_class_path = val_data_path / class_name\n",
    "    val_class_path.mkdir(parents=True, exist_ok=True)\n",
    "    for image_name in val_images:\n",
    "        src = class_path / image_name\n",
    "        dst = val_class_path / image_name\n",
    "        shutil.copyfile(src, dst)"
   ]
  },
  {
   "cell_type": "code",
   "execution_count": null,
   "id": "ul-Mikz8K2cY",
   "metadata": {
    "id": "ul-Mikz8K2cY"
   },
   "outputs": [],
   "source": []
  }
 ],
 "metadata": {
  "colab": {
   "provenance": []
  },
  "kernelspec": {
   "display_name": "Python 3 (ipykernel)",
   "language": "python",
   "name": "python3"
  },
  "language_info": {
   "codemirror_mode": {
    "name": "ipython",
    "version": 3
   },
   "file_extension": ".py",
   "mimetype": "text/x-python",
   "name": "python",
   "nbconvert_exporter": "python",
   "pygments_lexer": "ipython3",
   "version": "3.11.0"
  }
 },
 "nbformat": 4,
 "nbformat_minor": 5
}
